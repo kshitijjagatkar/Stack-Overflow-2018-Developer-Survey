{
 "cells": [
  {
   "cell_type": "markdown",
   "metadata": {},
   "source": [
    "## Stack Overflow 2020 Developer Survey:  The Data Science Industry Analysis for Data Scientist Machine learning specialist\n",
    "\n",
    "Each year, Stack Overflow publish survey analysis about the developer community about everything from their favorite technologies to their job preferences.\n",
    "\n",
    "The survey is very useful for the developer community, so I think to increase the benefits by taking a part of the survey which interested with Data Scientists and Machine Learning specialist to analysis it because the statistics can tell us more about our community such as Geographic, Demographic, Industrial and behaviors Analysis. Let's Begin and Have Fun!\n",
    "To see the data click [here](https://insights.stackoverflow.com/survey/2020)"
   ]
  },
  {
   "cell_type": "markdown",
   "metadata": {},
   "source": [
    "### Inspiration\n",
    "\n",
    "**Geographic Analysis:**\n",
    "\n",
    "    1.Top Countries having Highest Number of DS/ML Specialists.\n",
    "\n",
    "**Demographic Analysis:**\n",
    "\n",
    "    2.how many are male,femal,and other as The DS/ML Specialist\n",
    "    3.what age of people are most of The DS/ML Specialist\n",
    "    4.what is the Highest Level of Formal Education for the Data Scientist?\n",
    "    5.what is the Major Field of Study that that ds/ml has?\n",
    "\n",
    "**The Industrial Analysis:**\n",
    "\n",
    "    7.Top Languages,Tools & Software For Data Scientists in 2020\n",
    "    8.Overall how many years of coding experience as a Ds/Ml specialist have?\n",
    "    9.Does DS/Ml specialist satisfied by their job?\n",
    "    10.Top Countries with highest salaries of data scientists/ML specialists\n",
    "    11.Does ds/ml do code as hobby?\n",
    "    \n",
    "    "
   ]
  },
  {
   "cell_type": "markdown",
   "metadata": {},
   "source": [
    "#### Let's Begin with importing required Library"
   ]
  },
  {
   "cell_type": "code",
   "execution_count": 1,
   "metadata": {},
   "outputs": [],
   "source": [
    "import pandas as pd     #data analysis\n",
    "import numpy as np\n",
    "\n",
    "import matplotlib.pyplot as plt     #data visualization\n",
    "import seaborn as sns\n",
    "%matplotlib inline\n",
    "\n",
    "pd.set_option('display.max_columns',None)  # to display all columns in data frame\n",
    "pd.set_option('display.max_colwidth', None) # to display all content of the output"
   ]
  },
  {
   "cell_type": "code",
   "execution_count": 2,
   "metadata": {},
   "outputs": [
    {
     "data": {
      "text/html": [
       "<div>\n",
       "<style scoped>\n",
       "    .dataframe tbody tr th:only-of-type {\n",
       "        vertical-align: middle;\n",
       "    }\n",
       "\n",
       "    .dataframe tbody tr th {\n",
       "        vertical-align: top;\n",
       "    }\n",
       "\n",
       "    .dataframe thead th {\n",
       "        text-align: right;\n",
       "    }\n",
       "</style>\n",
       "<table border=\"1\" class=\"dataframe\">\n",
       "  <thead>\n",
       "    <tr style=\"text-align: right;\">\n",
       "      <th></th>\n",
       "      <th>Respondent</th>\n",
       "      <th>MainBranch</th>\n",
       "      <th>Hobbyist</th>\n",
       "      <th>Age</th>\n",
       "      <th>Age1stCode</th>\n",
       "      <th>CompFreq</th>\n",
       "      <th>CompTotal</th>\n",
       "      <th>ConvertedComp</th>\n",
       "      <th>Country</th>\n",
       "      <th>CurrencyDesc</th>\n",
       "      <th>CurrencySymbol</th>\n",
       "      <th>DatabaseDesireNextYear</th>\n",
       "      <th>DatabaseWorkedWith</th>\n",
       "      <th>DevType</th>\n",
       "      <th>EdLevel</th>\n",
       "      <th>Employment</th>\n",
       "      <th>Ethnicity</th>\n",
       "      <th>Gender</th>\n",
       "      <th>JobFactors</th>\n",
       "      <th>JobSat</th>\n",
       "      <th>JobSeek</th>\n",
       "      <th>LanguageDesireNextYear</th>\n",
       "      <th>LanguageWorkedWith</th>\n",
       "      <th>MiscTechDesireNextYear</th>\n",
       "      <th>MiscTechWorkedWith</th>\n",
       "      <th>NEWCollabToolsDesireNextYear</th>\n",
       "      <th>NEWCollabToolsWorkedWith</th>\n",
       "      <th>NEWDevOps</th>\n",
       "      <th>NEWDevOpsImpt</th>\n",
       "      <th>NEWEdImpt</th>\n",
       "      <th>NEWJobHunt</th>\n",
       "      <th>NEWJobHuntResearch</th>\n",
       "      <th>NEWLearn</th>\n",
       "      <th>NEWOffTopic</th>\n",
       "      <th>NEWOnboardGood</th>\n",
       "      <th>NEWOtherComms</th>\n",
       "      <th>NEWOvertime</th>\n",
       "      <th>NEWPurchaseResearch</th>\n",
       "      <th>NEWPurpleLink</th>\n",
       "      <th>NEWSOSites</th>\n",
       "      <th>NEWStuck</th>\n",
       "      <th>OpSys</th>\n",
       "      <th>OrgSize</th>\n",
       "      <th>PlatformDesireNextYear</th>\n",
       "      <th>PlatformWorkedWith</th>\n",
       "      <th>PurchaseWhat</th>\n",
       "      <th>Sexuality</th>\n",
       "      <th>SOAccount</th>\n",
       "      <th>SOComm</th>\n",
       "      <th>SOPartFreq</th>\n",
       "      <th>SOVisitFreq</th>\n",
       "      <th>SurveyEase</th>\n",
       "      <th>SurveyLength</th>\n",
       "      <th>Trans</th>\n",
       "      <th>UndergradMajor</th>\n",
       "      <th>WebframeDesireNextYear</th>\n",
       "      <th>WebframeWorkedWith</th>\n",
       "      <th>WelcomeChange</th>\n",
       "      <th>WorkWeekHrs</th>\n",
       "      <th>YearsCode</th>\n",
       "      <th>YearsCodePro</th>\n",
       "    </tr>\n",
       "  </thead>\n",
       "  <tbody>\n",
       "    <tr>\n",
       "      <th>0</th>\n",
       "      <td>1</td>\n",
       "      <td>I am a developer by profession</td>\n",
       "      <td>Yes</td>\n",
       "      <td>NaN</td>\n",
       "      <td>13</td>\n",
       "      <td>Monthly</td>\n",
       "      <td>NaN</td>\n",
       "      <td>NaN</td>\n",
       "      <td>Germany</td>\n",
       "      <td>European Euro</td>\n",
       "      <td>EUR</td>\n",
       "      <td>Microsoft SQL Server</td>\n",
       "      <td>Elasticsearch;Microsoft SQL Server;Oracle</td>\n",
       "      <td>Developer, desktop or enterprise applications;Developer, full-stack</td>\n",
       "      <td>Master’s degree (M.A., M.S., M.Eng., MBA, etc.)</td>\n",
       "      <td>Independent contractor, freelancer, or self-employed</td>\n",
       "      <td>White or of European descent</td>\n",
       "      <td>Man</td>\n",
       "      <td>Languages, frameworks, and other technologies I’d be working with;Remote work options;Opportunities for professional development</td>\n",
       "      <td>Slightly satisfied</td>\n",
       "      <td>I am not interested in new job opportunities</td>\n",
       "      <td>C#;HTML/CSS;JavaScript</td>\n",
       "      <td>C#;HTML/CSS;JavaScript</td>\n",
       "      <td>.NET Core;Xamarin</td>\n",
       "      <td>.NET;.NET Core</td>\n",
       "      <td>Microsoft Teams;Microsoft Azure;Trello</td>\n",
       "      <td>Confluence;Jira;Slack;Microsoft Azure;Trello</td>\n",
       "      <td>No</td>\n",
       "      <td>Somewhat important</td>\n",
       "      <td>Fairly important</td>\n",
       "      <td>NaN</td>\n",
       "      <td>NaN</td>\n",
       "      <td>Once a year</td>\n",
       "      <td>Not sure</td>\n",
       "      <td>NaN</td>\n",
       "      <td>No</td>\n",
       "      <td>Often: 1-2 days per week or more</td>\n",
       "      <td>Start a free trial;Ask developers I know/work with</td>\n",
       "      <td>Amused</td>\n",
       "      <td>Stack Overflow (public Q&amp;A for anyone who codes)</td>\n",
       "      <td>Visit Stack Overflow;Go for a walk or other physical activity;Do other work and come back later</td>\n",
       "      <td>Windows</td>\n",
       "      <td>2 to 9 employees</td>\n",
       "      <td>Android;iOS;Kubernetes;Microsoft Azure;Windows</td>\n",
       "      <td>Windows</td>\n",
       "      <td>NaN</td>\n",
       "      <td>Straight / Heterosexual</td>\n",
       "      <td>No</td>\n",
       "      <td>No, not at all</td>\n",
       "      <td>NaN</td>\n",
       "      <td>Multiple times per day</td>\n",
       "      <td>Neither easy nor difficult</td>\n",
       "      <td>Appropriate in length</td>\n",
       "      <td>No</td>\n",
       "      <td>Computer science, computer engineering, or software engineering</td>\n",
       "      <td>ASP.NET Core</td>\n",
       "      <td>ASP.NET;ASP.NET Core</td>\n",
       "      <td>Just as welcome now as I felt last year</td>\n",
       "      <td>50.0</td>\n",
       "      <td>36</td>\n",
       "      <td>27</td>\n",
       "    </tr>\n",
       "    <tr>\n",
       "      <th>1</th>\n",
       "      <td>2</td>\n",
       "      <td>I am a developer by profession</td>\n",
       "      <td>No</td>\n",
       "      <td>NaN</td>\n",
       "      <td>19</td>\n",
       "      <td>NaN</td>\n",
       "      <td>NaN</td>\n",
       "      <td>NaN</td>\n",
       "      <td>United Kingdom</td>\n",
       "      <td>Pound sterling</td>\n",
       "      <td>GBP</td>\n",
       "      <td>NaN</td>\n",
       "      <td>NaN</td>\n",
       "      <td>Developer, full-stack;Developer, mobile</td>\n",
       "      <td>Bachelor’s degree (B.A., B.S., B.Eng., etc.)</td>\n",
       "      <td>Employed full-time</td>\n",
       "      <td>NaN</td>\n",
       "      <td>NaN</td>\n",
       "      <td>NaN</td>\n",
       "      <td>Very dissatisfied</td>\n",
       "      <td>I am not interested in new job opportunities</td>\n",
       "      <td>Python;Swift</td>\n",
       "      <td>JavaScript;Swift</td>\n",
       "      <td>React Native;TensorFlow;Unity 3D</td>\n",
       "      <td>React Native</td>\n",
       "      <td>Github;Slack</td>\n",
       "      <td>Confluence;Jira;Github;Gitlab;Slack</td>\n",
       "      <td>NaN</td>\n",
       "      <td>NaN</td>\n",
       "      <td>Fairly important</td>\n",
       "      <td>NaN</td>\n",
       "      <td>NaN</td>\n",
       "      <td>Once a year</td>\n",
       "      <td>Not sure</td>\n",
       "      <td>NaN</td>\n",
       "      <td>No</td>\n",
       "      <td>NaN</td>\n",
       "      <td>NaN</td>\n",
       "      <td>Amused</td>\n",
       "      <td>Stack Overflow (public Q&amp;A for anyone who codes);Stack Exchange (public Q&amp;A for a variety of topics);Stack Overflow Jobs (for job seekers)</td>\n",
       "      <td>Visit Stack Overflow;Go for a walk or other physical activity</td>\n",
       "      <td>MacOS</td>\n",
       "      <td>1,000 to 4,999 employees</td>\n",
       "      <td>iOS;Kubernetes;Linux;MacOS</td>\n",
       "      <td>iOS</td>\n",
       "      <td>I have little or no influence</td>\n",
       "      <td>NaN</td>\n",
       "      <td>Yes</td>\n",
       "      <td>Yes, definitely</td>\n",
       "      <td>Less than once per month or monthly</td>\n",
       "      <td>Multiple times per day</td>\n",
       "      <td>NaN</td>\n",
       "      <td>NaN</td>\n",
       "      <td>NaN</td>\n",
       "      <td>Computer science, computer engineering, or software engineering</td>\n",
       "      <td>NaN</td>\n",
       "      <td>NaN</td>\n",
       "      <td>Somewhat more welcome now than last year</td>\n",
       "      <td>NaN</td>\n",
       "      <td>7</td>\n",
       "      <td>4</td>\n",
       "    </tr>\n",
       "  </tbody>\n",
       "</table>\n",
       "</div>"
      ],
      "text/plain": [
       "   Respondent                      MainBranch Hobbyist  Age Age1stCode  \\\n",
       "0           1  I am a developer by profession      Yes  NaN         13   \n",
       "1           2  I am a developer by profession       No  NaN         19   \n",
       "\n",
       "  CompFreq  CompTotal  ConvertedComp         Country    CurrencyDesc  \\\n",
       "0  Monthly        NaN            NaN         Germany   European Euro   \n",
       "1      NaN        NaN            NaN  United Kingdom  Pound sterling   \n",
       "\n",
       "  CurrencySymbol DatabaseDesireNextYear  \\\n",
       "0            EUR   Microsoft SQL Server   \n",
       "1            GBP                    NaN   \n",
       "\n",
       "                          DatabaseWorkedWith  \\\n",
       "0  Elasticsearch;Microsoft SQL Server;Oracle   \n",
       "1                                        NaN   \n",
       "\n",
       "                                                               DevType  \\\n",
       "0  Developer, desktop or enterprise applications;Developer, full-stack   \n",
       "1                              Developer, full-stack;Developer, mobile   \n",
       "\n",
       "                                           EdLevel  \\\n",
       "0  Master’s degree (M.A., M.S., M.Eng., MBA, etc.)   \n",
       "1     Bachelor’s degree (B.A., B.S., B.Eng., etc.)   \n",
       "\n",
       "                                             Employment  \\\n",
       "0  Independent contractor, freelancer, or self-employed   \n",
       "1                                    Employed full-time   \n",
       "\n",
       "                      Ethnicity Gender  \\\n",
       "0  White or of European descent    Man   \n",
       "1                           NaN    NaN   \n",
       "\n",
       "                                                                                                                         JobFactors  \\\n",
       "0  Languages, frameworks, and other technologies I’d be working with;Remote work options;Opportunities for professional development   \n",
       "1                                                                                                                               NaN   \n",
       "\n",
       "               JobSat                                       JobSeek  \\\n",
       "0  Slightly satisfied  I am not interested in new job opportunities   \n",
       "1   Very dissatisfied  I am not interested in new job opportunities   \n",
       "\n",
       "   LanguageDesireNextYear      LanguageWorkedWith  \\\n",
       "0  C#;HTML/CSS;JavaScript  C#;HTML/CSS;JavaScript   \n",
       "1            Python;Swift        JavaScript;Swift   \n",
       "\n",
       "             MiscTechDesireNextYear MiscTechWorkedWith  \\\n",
       "0                 .NET Core;Xamarin     .NET;.NET Core   \n",
       "1  React Native;TensorFlow;Unity 3D       React Native   \n",
       "\n",
       "             NEWCollabToolsDesireNextYear  \\\n",
       "0  Microsoft Teams;Microsoft Azure;Trello   \n",
       "1                            Github;Slack   \n",
       "\n",
       "                       NEWCollabToolsWorkedWith NEWDevOps       NEWDevOpsImpt  \\\n",
       "0  Confluence;Jira;Slack;Microsoft Azure;Trello        No  Somewhat important   \n",
       "1           Confluence;Jira;Github;Gitlab;Slack       NaN                 NaN   \n",
       "\n",
       "          NEWEdImpt NEWJobHunt NEWJobHuntResearch     NEWLearn NEWOffTopic  \\\n",
       "0  Fairly important        NaN                NaN  Once a year    Not sure   \n",
       "1  Fairly important        NaN                NaN  Once a year    Not sure   \n",
       "\n",
       "  NEWOnboardGood NEWOtherComms                       NEWOvertime  \\\n",
       "0            NaN            No  Often: 1-2 days per week or more   \n",
       "1            NaN            No                               NaN   \n",
       "\n",
       "                                  NEWPurchaseResearch NEWPurpleLink  \\\n",
       "0  Start a free trial;Ask developers I know/work with        Amused   \n",
       "1                                                 NaN        Amused   \n",
       "\n",
       "                                                                                                                                   NEWSOSites  \\\n",
       "0                                                                                            Stack Overflow (public Q&A for anyone who codes)   \n",
       "1  Stack Overflow (public Q&A for anyone who codes);Stack Exchange (public Q&A for a variety of topics);Stack Overflow Jobs (for job seekers)   \n",
       "\n",
       "                                                                                          NEWStuck  \\\n",
       "0  Visit Stack Overflow;Go for a walk or other physical activity;Do other work and come back later   \n",
       "1                                    Visit Stack Overflow;Go for a walk or other physical activity   \n",
       "\n",
       "     OpSys                   OrgSize  \\\n",
       "0  Windows          2 to 9 employees   \n",
       "1    MacOS  1,000 to 4,999 employees   \n",
       "\n",
       "                           PlatformDesireNextYear PlatformWorkedWith  \\\n",
       "0  Android;iOS;Kubernetes;Microsoft Azure;Windows            Windows   \n",
       "1                      iOS;Kubernetes;Linux;MacOS                iOS   \n",
       "\n",
       "                    PurchaseWhat                Sexuality SOAccount  \\\n",
       "0                            NaN  Straight / Heterosexual        No   \n",
       "1  I have little or no influence                      NaN       Yes   \n",
       "\n",
       "            SOComm                           SOPartFreq  \\\n",
       "0   No, not at all                                  NaN   \n",
       "1  Yes, definitely  Less than once per month or monthly   \n",
       "\n",
       "              SOVisitFreq                  SurveyEase           SurveyLength  \\\n",
       "0  Multiple times per day  Neither easy nor difficult  Appropriate in length   \n",
       "1  Multiple times per day                         NaN                    NaN   \n",
       "\n",
       "  Trans                                                   UndergradMajor  \\\n",
       "0    No  Computer science, computer engineering, or software engineering   \n",
       "1   NaN  Computer science, computer engineering, or software engineering   \n",
       "\n",
       "  WebframeDesireNextYear    WebframeWorkedWith  \\\n",
       "0           ASP.NET Core  ASP.NET;ASP.NET Core   \n",
       "1                    NaN                   NaN   \n",
       "\n",
       "                              WelcomeChange  WorkWeekHrs YearsCode  \\\n",
       "0   Just as welcome now as I felt last year         50.0        36   \n",
       "1  Somewhat more welcome now than last year          NaN         7   \n",
       "\n",
       "  YearsCodePro  \n",
       "0           27  \n",
       "1            4  "
      ]
     },
     "execution_count": 2,
     "metadata": {},
     "output_type": "execute_result"
    }
   ],
   "source": [
    "df = pd.read_csv('E:\\Projects\\stackoverflow\\developer_survey_2020\\survey_results_public.csv') #read file\n",
    "df.head(2)"
   ]
  },
  {
   "cell_type": "code",
   "execution_count": 3,
   "metadata": {},
   "outputs": [
    {
     "data": {
      "text/plain": [
       "(64461, 61)"
      ]
     },
     "execution_count": 3,
     "metadata": {},
     "output_type": "execute_result"
    }
   ],
   "source": [
    "df.shape #rows and columns "
   ]
  },
  {
   "cell_type": "markdown",
   "metadata": {},
   "source": [
    "#### Make New Data Frame(ds) for Data science and ML industry "
   ]
  },
  {
   "cell_type": "code",
   "execution_count": 4,
   "metadata": {},
   "outputs": [
    {
     "name": "stdout",
     "output_type": "stream",
     "text": [
      "['Developer, desktop or enterprise applications;Developer, full-stack'\n",
      " 'Developer, full-stack;Developer, mobile' nan ...\n",
      " 'Data scientist or machine learning specialist;Database administrator;Developer, back-end;Developer, front-end;System administrator'\n",
      " 'Academic researcher;Data or business analyst;Data scientist or machine learning specialist;Database administrator;Designer;Developer, back-end;Developer, desktop or enterprise applications;Developer, embedded applications or devices;Developer, front-end;Developer, full-stack;Developer, game or graphics;Developer, mobile;Developer, QA or test;DevOps specialist;Senior executive/VP;System administrator'\n",
      " 'Data or business analyst;Developer, mobile;Senior executive/VP;System administrator']\n"
     ]
    }
   ],
   "source": [
    "print(df.DevType.unique())  #here we can find devloper type as data scientist and ml specialist"
   ]
  },
  {
   "cell_type": "code",
   "execution_count": 5,
   "metadata": {},
   "outputs": [
    {
     "data": {
      "text/html": [
       "<div>\n",
       "<style scoped>\n",
       "    .dataframe tbody tr th:only-of-type {\n",
       "        vertical-align: middle;\n",
       "    }\n",
       "\n",
       "    .dataframe tbody tr th {\n",
       "        vertical-align: top;\n",
       "    }\n",
       "\n",
       "    .dataframe thead th {\n",
       "        text-align: right;\n",
       "    }\n",
       "</style>\n",
       "<table border=\"1\" class=\"dataframe\">\n",
       "  <thead>\n",
       "    <tr style=\"text-align: right;\">\n",
       "      <th></th>\n",
       "      <th>Respondent</th>\n",
       "      <th>MainBranch</th>\n",
       "      <th>Hobbyist</th>\n",
       "      <th>Age</th>\n",
       "      <th>Age1stCode</th>\n",
       "      <th>CompFreq</th>\n",
       "      <th>CompTotal</th>\n",
       "      <th>ConvertedComp</th>\n",
       "      <th>Country</th>\n",
       "      <th>CurrencyDesc</th>\n",
       "      <th>CurrencySymbol</th>\n",
       "      <th>DatabaseDesireNextYear</th>\n",
       "      <th>DatabaseWorkedWith</th>\n",
       "      <th>DevType</th>\n",
       "      <th>EdLevel</th>\n",
       "      <th>Employment</th>\n",
       "      <th>Ethnicity</th>\n",
       "      <th>Gender</th>\n",
       "      <th>JobFactors</th>\n",
       "      <th>JobSat</th>\n",
       "      <th>JobSeek</th>\n",
       "      <th>LanguageDesireNextYear</th>\n",
       "      <th>LanguageWorkedWith</th>\n",
       "      <th>MiscTechDesireNextYear</th>\n",
       "      <th>MiscTechWorkedWith</th>\n",
       "      <th>NEWCollabToolsDesireNextYear</th>\n",
       "      <th>NEWCollabToolsWorkedWith</th>\n",
       "      <th>NEWDevOps</th>\n",
       "      <th>NEWDevOpsImpt</th>\n",
       "      <th>NEWEdImpt</th>\n",
       "      <th>NEWJobHunt</th>\n",
       "      <th>NEWJobHuntResearch</th>\n",
       "      <th>NEWLearn</th>\n",
       "      <th>NEWOffTopic</th>\n",
       "      <th>NEWOnboardGood</th>\n",
       "      <th>NEWOtherComms</th>\n",
       "      <th>NEWOvertime</th>\n",
       "      <th>NEWPurchaseResearch</th>\n",
       "      <th>NEWPurpleLink</th>\n",
       "      <th>NEWSOSites</th>\n",
       "      <th>NEWStuck</th>\n",
       "      <th>OpSys</th>\n",
       "      <th>OrgSize</th>\n",
       "      <th>PlatformDesireNextYear</th>\n",
       "      <th>PlatformWorkedWith</th>\n",
       "      <th>PurchaseWhat</th>\n",
       "      <th>Sexuality</th>\n",
       "      <th>SOAccount</th>\n",
       "      <th>SOComm</th>\n",
       "      <th>SOPartFreq</th>\n",
       "      <th>SOVisitFreq</th>\n",
       "      <th>SurveyEase</th>\n",
       "      <th>SurveyLength</th>\n",
       "      <th>Trans</th>\n",
       "      <th>UndergradMajor</th>\n",
       "      <th>WebframeDesireNextYear</th>\n",
       "      <th>WebframeWorkedWith</th>\n",
       "      <th>WelcomeChange</th>\n",
       "      <th>WorkWeekHrs</th>\n",
       "      <th>YearsCode</th>\n",
       "      <th>YearsCodePro</th>\n",
       "    </tr>\n",
       "  </thead>\n",
       "  <tbody>\n",
       "    <tr>\n",
       "      <th>386</th>\n",
       "      <td>388</td>\n",
       "      <td>I am not primarily a developer, but I write code sometimes as part of my work</td>\n",
       "      <td>Yes</td>\n",
       "      <td>NaN</td>\n",
       "      <td>15</td>\n",
       "      <td>NaN</td>\n",
       "      <td>NaN</td>\n",
       "      <td>NaN</td>\n",
       "      <td>United States</td>\n",
       "      <td>United States dollar</td>\n",
       "      <td>USD</td>\n",
       "      <td>Elasticsearch;PostgreSQL</td>\n",
       "      <td>MongoDB;MySQL;PostgreSQL</td>\n",
       "      <td>Data scientist or machine learning specialist</td>\n",
       "      <td>Other doctoral degree (Ph.D., Ed.D., etc.)</td>\n",
       "      <td>Employed full-time</td>\n",
       "      <td>NaN</td>\n",
       "      <td>NaN</td>\n",
       "      <td>Industry that I’d be working in;Office environment or company culture</td>\n",
       "      <td>NaN</td>\n",
       "      <td>I’m not actively looking, but I am open to new opportunities</td>\n",
       "      <td>Java;Python;SQL</td>\n",
       "      <td>Java;Python</td>\n",
       "      <td>Keras;TensorFlow;Torch/PyTorch</td>\n",
       "      <td>Apache Spark;Keras;TensorFlow</td>\n",
       "      <td>NaN</td>\n",
       "      <td>Confluence;Jira;Github;Slack;Google Suite (Docs, Meet, etc)</td>\n",
       "      <td>Yes</td>\n",
       "      <td>Extremely important</td>\n",
       "      <td>Very important</td>\n",
       "      <td>NaN</td>\n",
       "      <td>NaN</td>\n",
       "      <td>Once a year</td>\n",
       "      <td>No</td>\n",
       "      <td>NaN</td>\n",
       "      <td>No</td>\n",
       "      <td>NaN</td>\n",
       "      <td>NaN</td>\n",
       "      <td>Hello, old friend</td>\n",
       "      <td>Stack Overflow (public Q&amp;A for anyone who codes);Stack Exchange (public Q&amp;A for a variety of topics)</td>\n",
       "      <td>Go for a walk or other physical activity</td>\n",
       "      <td>Linux-based</td>\n",
       "      <td>10,000 or more employees</td>\n",
       "      <td>Android;AWS;Docker;Linux;MacOS</td>\n",
       "      <td>Android;AWS;Linux;MacOS</td>\n",
       "      <td>I have little or no influence</td>\n",
       "      <td>NaN</td>\n",
       "      <td>Yes</td>\n",
       "      <td>Yes, definitely</td>\n",
       "      <td>Less than once per month or monthly</td>\n",
       "      <td>A few times per week</td>\n",
       "      <td>Easy</td>\n",
       "      <td>Appropriate in length</td>\n",
       "      <td>NaN</td>\n",
       "      <td>Another engineering discipline (such as civil, electrical, mechanical, etc.)</td>\n",
       "      <td>Flask</td>\n",
       "      <td>Flask</td>\n",
       "      <td>Somewhat less welcome now than last year</td>\n",
       "      <td>40.0</td>\n",
       "      <td>12</td>\n",
       "      <td>5</td>\n",
       "    </tr>\n",
       "    <tr>\n",
       "      <th>506</th>\n",
       "      <td>508</td>\n",
       "      <td>I am not primarily a developer, but I write code sometimes as part of my work</td>\n",
       "      <td>Yes</td>\n",
       "      <td>NaN</td>\n",
       "      <td>13</td>\n",
       "      <td>Yearly</td>\n",
       "      <td>250000.0</td>\n",
       "      <td>250000.0</td>\n",
       "      <td>United States</td>\n",
       "      <td>United States dollar</td>\n",
       "      <td>USD</td>\n",
       "      <td>MongoDB;PostgreSQL</td>\n",
       "      <td>MongoDB</td>\n",
       "      <td>Data scientist or machine learning specialist</td>\n",
       "      <td>Other doctoral degree (Ph.D., Ed.D., etc.)</td>\n",
       "      <td>Employed full-time</td>\n",
       "      <td>NaN</td>\n",
       "      <td>NaN</td>\n",
       "      <td>Remote work options;How widely used or impactful my work output would be;Opportunities for professional development</td>\n",
       "      <td>Very satisfied</td>\n",
       "      <td>I am not interested in new job opportunities</td>\n",
       "      <td>Python</td>\n",
       "      <td>Python</td>\n",
       "      <td>Apache Spark;Hadoop;Pandas;TensorFlow;Torch/PyTorch</td>\n",
       "      <td>Pandas</td>\n",
       "      <td>Github</td>\n",
       "      <td>Confluence;Jira;Github;Slack;Google Suite (Docs, Meet, etc)</td>\n",
       "      <td>Yes</td>\n",
       "      <td>Extremely important</td>\n",
       "      <td>Critically important</td>\n",
       "      <td>Better compensation;Better work/life balance;Growth or leadership opportunities</td>\n",
       "      <td>Read company media, such as employee blogs or company culture videos;Company reviews from third party sites (e.g. Glassdoor, Blind);Personal network - friends or family;Read other media like news articles, founder profiles, etc. about the company</td>\n",
       "      <td>Once every few years</td>\n",
       "      <td>No</td>\n",
       "      <td>Yes</td>\n",
       "      <td>Yes</td>\n",
       "      <td>Occasionally: 1-2 days per quarter but less than monthly</td>\n",
       "      <td>NaN</td>\n",
       "      <td>Indifferent</td>\n",
       "      <td>Stack Overflow (public Q&amp;A for anyone who codes);Stack Exchange (public Q&amp;A for a variety of topics)</td>\n",
       "      <td>Call a coworker or friend;Go for a walk or other physical activity</td>\n",
       "      <td>MacOS</td>\n",
       "      <td>100 to 499 employees</td>\n",
       "      <td>Linux</td>\n",
       "      <td>Linux</td>\n",
       "      <td>I have little or no influence</td>\n",
       "      <td>Straight / Heterosexual</td>\n",
       "      <td>Yes</td>\n",
       "      <td>Yes, definitely</td>\n",
       "      <td>Multiple times per day</td>\n",
       "      <td>Multiple times per day</td>\n",
       "      <td>Easy</td>\n",
       "      <td>Too long</td>\n",
       "      <td>No</td>\n",
       "      <td>Mathematics or statistics</td>\n",
       "      <td>NaN</td>\n",
       "      <td>NaN</td>\n",
       "      <td>A lot less welcome now than last year</td>\n",
       "      <td>45.0</td>\n",
       "      <td>37</td>\n",
       "      <td>30</td>\n",
       "    </tr>\n",
       "  </tbody>\n",
       "</table>\n",
       "</div>"
      ],
      "text/plain": [
       "     Respondent  \\\n",
       "386         388   \n",
       "506         508   \n",
       "\n",
       "                                                                        MainBranch  \\\n",
       "386  I am not primarily a developer, but I write code sometimes as part of my work   \n",
       "506  I am not primarily a developer, but I write code sometimes as part of my work   \n",
       "\n",
       "    Hobbyist  Age Age1stCode CompFreq  CompTotal  ConvertedComp  \\\n",
       "386      Yes  NaN         15      NaN        NaN            NaN   \n",
       "506      Yes  NaN         13   Yearly   250000.0       250000.0   \n",
       "\n",
       "           Country          CurrencyDesc CurrencySymbol  \\\n",
       "386  United States  United States dollar            USD   \n",
       "506  United States  United States dollar            USD   \n",
       "\n",
       "       DatabaseDesireNextYear        DatabaseWorkedWith  \\\n",
       "386  Elasticsearch;PostgreSQL  MongoDB;MySQL;PostgreSQL   \n",
       "506        MongoDB;PostgreSQL                   MongoDB   \n",
       "\n",
       "                                           DevType  \\\n",
       "386  Data scientist or machine learning specialist   \n",
       "506  Data scientist or machine learning specialist   \n",
       "\n",
       "                                        EdLevel          Employment Ethnicity  \\\n",
       "386  Other doctoral degree (Ph.D., Ed.D., etc.)  Employed full-time       NaN   \n",
       "506  Other doctoral degree (Ph.D., Ed.D., etc.)  Employed full-time       NaN   \n",
       "\n",
       "    Gender  \\\n",
       "386    NaN   \n",
       "506    NaN   \n",
       "\n",
       "                                                                                                              JobFactors  \\\n",
       "386                                                Industry that I’d be working in;Office environment or company culture   \n",
       "506  Remote work options;How widely used or impactful my work output would be;Opportunities for professional development   \n",
       "\n",
       "             JobSat  \\\n",
       "386             NaN   \n",
       "506  Very satisfied   \n",
       "\n",
       "                                                          JobSeek  \\\n",
       "386  I’m not actively looking, but I am open to new opportunities   \n",
       "506                  I am not interested in new job opportunities   \n",
       "\n",
       "    LanguageDesireNextYear LanguageWorkedWith  \\\n",
       "386        Java;Python;SQL        Java;Python   \n",
       "506                 Python             Python   \n",
       "\n",
       "                                  MiscTechDesireNextYear  \\\n",
       "386                       Keras;TensorFlow;Torch/PyTorch   \n",
       "506  Apache Spark;Hadoop;Pandas;TensorFlow;Torch/PyTorch   \n",
       "\n",
       "                MiscTechWorkedWith NEWCollabToolsDesireNextYear  \\\n",
       "386  Apache Spark;Keras;TensorFlow                          NaN   \n",
       "506                         Pandas                       Github   \n",
       "\n",
       "                                        NEWCollabToolsWorkedWith NEWDevOps  \\\n",
       "386  Confluence;Jira;Github;Slack;Google Suite (Docs, Meet, etc)       Yes   \n",
       "506  Confluence;Jira;Github;Slack;Google Suite (Docs, Meet, etc)       Yes   \n",
       "\n",
       "           NEWDevOpsImpt             NEWEdImpt  \\\n",
       "386  Extremely important        Very important   \n",
       "506  Extremely important  Critically important   \n",
       "\n",
       "                                                                          NEWJobHunt  \\\n",
       "386                                                                              NaN   \n",
       "506  Better compensation;Better work/life balance;Growth or leadership opportunities   \n",
       "\n",
       "                                                                                                                                                                                                                                         NEWJobHuntResearch  \\\n",
       "386                                                                                                                                                                                                                                                     NaN   \n",
       "506  Read company media, such as employee blogs or company culture videos;Company reviews from third party sites (e.g. Glassdoor, Blind);Personal network - friends or family;Read other media like news articles, founder profiles, etc. about the company   \n",
       "\n",
       "                 NEWLearn NEWOffTopic NEWOnboardGood NEWOtherComms  \\\n",
       "386           Once a year          No            NaN            No   \n",
       "506  Once every few years          No            Yes           Yes   \n",
       "\n",
       "                                                  NEWOvertime  \\\n",
       "386                                                       NaN   \n",
       "506  Occasionally: 1-2 days per quarter but less than monthly   \n",
       "\n",
       "    NEWPurchaseResearch      NEWPurpleLink  \\\n",
       "386                 NaN  Hello, old friend   \n",
       "506                 NaN        Indifferent   \n",
       "\n",
       "                                                                                               NEWSOSites  \\\n",
       "386  Stack Overflow (public Q&A for anyone who codes);Stack Exchange (public Q&A for a variety of topics)   \n",
       "506  Stack Overflow (public Q&A for anyone who codes);Stack Exchange (public Q&A for a variety of topics)   \n",
       "\n",
       "                                                               NEWStuck  \\\n",
       "386                            Go for a walk or other physical activity   \n",
       "506  Call a coworker or friend;Go for a walk or other physical activity   \n",
       "\n",
       "           OpSys                   OrgSize          PlatformDesireNextYear  \\\n",
       "386  Linux-based  10,000 or more employees  Android;AWS;Docker;Linux;MacOS   \n",
       "506        MacOS      100 to 499 employees                           Linux   \n",
       "\n",
       "          PlatformWorkedWith                   PurchaseWhat  \\\n",
       "386  Android;AWS;Linux;MacOS  I have little or no influence   \n",
       "506                    Linux  I have little or no influence   \n",
       "\n",
       "                   Sexuality SOAccount           SOComm  \\\n",
       "386                      NaN       Yes  Yes, definitely   \n",
       "506  Straight / Heterosexual       Yes  Yes, definitely   \n",
       "\n",
       "                              SOPartFreq             SOVisitFreq SurveyEase  \\\n",
       "386  Less than once per month or monthly    A few times per week       Easy   \n",
       "506               Multiple times per day  Multiple times per day       Easy   \n",
       "\n",
       "              SurveyLength Trans  \\\n",
       "386  Appropriate in length   NaN   \n",
       "506               Too long    No   \n",
       "\n",
       "                                                                   UndergradMajor  \\\n",
       "386  Another engineering discipline (such as civil, electrical, mechanical, etc.)   \n",
       "506                                                     Mathematics or statistics   \n",
       "\n",
       "    WebframeDesireNextYear WebframeWorkedWith  \\\n",
       "386                  Flask              Flask   \n",
       "506                    NaN                NaN   \n",
       "\n",
       "                                WelcomeChange  WorkWeekHrs YearsCode  \\\n",
       "386  Somewhat less welcome now than last year         40.0        12   \n",
       "506     A lot less welcome now than last year         45.0        37   \n",
       "\n",
       "    YearsCodePro  \n",
       "386            5  \n",
       "506           30  "
      ]
     },
     "execution_count": 5,
     "metadata": {},
     "output_type": "execute_result"
    }
   ],
   "source": [
    "ds = df[df['DevType']== 'Data scientist or machine learning specialist'] #made a new dataframe as ds\n",
    "ds.head(2)"
   ]
  },
  {
   "cell_type": "code",
   "execution_count": 6,
   "metadata": {},
   "outputs": [
    {
     "name": "stdout",
     "output_type": "stream",
     "text": [
      "the data science dataframe shape (369, 61) and the stackoverflow dataframe shape (64461, 61) \n"
     ]
    }
   ],
   "source": [
    "print(\"the data science dataframe shape %s and the stackoverflow dataframe shape %s \"%(ds.shape, df.shape))"
   ]
  },
  {
   "cell_type": "markdown",
   "metadata": {},
   "source": [
    "## Geographic Analysis for Data Scientist / Machine Learning Specialist\n",
    "\n",
    "\n",
    "### 1.Top Countries having Highest Number of Respondents who are Data Scientist / Machine Learning Specialists"
   ]
  },
  {
   "cell_type": "code",
   "execution_count": 7,
   "metadata": {
    "scrolled": true
   },
   "outputs": [
    {
     "data": {
      "image/png": "[encoded data removed]",
      "text/plain": [
       "<Figure size 1440x504 with 1 Axes>"
      ]
     },
     "metadata": {
      "needs_background": "light"
     },
     "output_type": "display_data"
    }
   ],
   "source": [
    "country = ds.Country.value_counts().head(10)  # chosing top 10 \n",
    "\n",
    "x = country.index               #coping column names\n",
    "y = country/country.sum() *100  #calculating percentage \n",
    "\n",
    "f,ax1 = plt.subplots(figsize=(20,7)) #plotting graph\n",
    "sns.barplot(x=x, y=y, ax=ax1);\n",
    "ax1.set(xlabel = 'Countries', ylabel = 'Percentage %', title = \"top countries having data scientists and machine learning specialist\");\n"
   ]
  },
  {
   "cell_type": "markdown",
   "metadata": {},
   "source": [
    "## Demographic Analysis for Data Scientist / Machine Learning Specialist\n",
    "\n",
    "\n",
    "### 1. Gender of The Data Scientist / Machine Learning Specialist"
   ]
  },
  {
   "cell_type": "code",
   "execution_count": 8,
   "metadata": {},
   "outputs": [
    {
     "data": {
      "text/plain": [
       "Man                                                  255\n",
       "Woman                                                 53\n",
       "Non-binary, genderqueer, or gender non-conforming      4\n",
       "dtype: int64"
      ]
     },
     "execution_count": 8,
     "metadata": {},
     "output_type": "execute_result"
    }
   ],
   "source": [
    "pd.DataFrame(ds['Gender'].dropna().str.split(';').to_list()).stack().value_counts()"
   ]
  },
  {
   "cell_type": "code",
   "execution_count": 9,
   "metadata": {},
   "outputs": [
    {
     "data": {
      "image/png": "[encoded data removed]",
      "text/plain": [
       "<Figure size 720x360 with 1 Axes>"
      ]
     },
     "metadata": {},
     "output_type": "display_data"
    }
   ],
   "source": [
    "gender = pd.DataFrame(ds['Gender'].dropna().str.split(';').to_list()).stack() #casted and saved in gender\n",
    "gender = gender.value_counts()\n",
    "\n",
    "labels = gender.index #there are four types but for convenience we clubed non binary and transgender into one\n",
    "\n",
    "#labels = 'Male', 'Female', 'Non-binary or Transgender'\n",
    "sizes = gender/gender.sum() *100\n",
    "#sizes = [85.6, 12.9, 1.5]     #calculated separately\n",
    "\n",
    "pie,ax1 =plt.subplots(figsize = (10,5))\n",
    "\n",
    "plt.pie(gender,labels=labels,autopct='%.1f%%',pctdistance=0.75,explode=[0.07]*3,startangle=27,radius=1.5);"
   ]
  },
  {
   "cell_type": "markdown",
   "metadata": {},
   "source": [
    "### 2. Age of The Data Scientist / Machine Learning Specialist"
   ]
  },
  {
   "cell_type": "code",
   "execution_count": 10,
   "metadata": {},
   "outputs": [
    {
     "data": {
      "image/png": "[encoded data removed]",
      "text/plain": [
       "<Figure size 1152x360 with 1 Axes>"
      ]
     },
     "metadata": {
      "needs_background": "light"
     },
     "output_type": "display_data"
    }
   ],
   "source": [
    "age = pd.DataFrame(ds['Age'].dropna().astype(int).to_list()).stack()\n",
    "age = age.value_counts()\n",
    "\n",
    "x = age.index\n",
    "y = age/age.sum() *100\n",
    "\n",
    "f,ax1 = plt.subplots(figsize = (16,5))\n",
    "ax1.set(xlabel = 'Age', ylabel = 'Percentage%', title = 'Age of The Data Scientist / Machine Learning Specialist')\n",
    "sns.barplot(x=x, y=y, ax=ax1)\n",
    "plt.show()"
   ]
  },
  {
   "cell_type": "markdown",
   "metadata": {},
   "source": [
    "### 3. The Highest Level of Formal Education for the Data Scientists"
   ]
  },
  {
   "cell_type": "code",
   "execution_count": 11,
   "metadata": {},
   "outputs": [
    {
     "data": {
      "image/png": "[encoded data removed]",
      "text/plain": [
       "<Figure size 360x720 with 1 Axes>"
      ]
     },
     "metadata": {
      "needs_background": "light"
     },
     "output_type": "display_data"
    }
   ],
   "source": [
    "formal_ed = pd.DataFrame(ds['EdLevel'].dropna().str.strip().tolist()).stack() #and here we use strip()\n",
    "formal_ed = formal_ed.value_counts()\n",
    "\n",
    "f,ax1 = plt.subplots(figsize = (5,10))\n",
    "x = formal_ed/formal_ed.sum() *100\n",
    "y = formal_ed.index\n",
    "\n",
    "ax1.set(xlabel = 'Percentage %', ylabel = 'Formal Education', \n",
    "        title = \"Highest level of education for data scientist/machine learning specialist\")\n",
    "sns.barplot(x=x, y=y, ax=ax1);"
   ]
  },
  {
   "cell_type": "markdown",
   "metadata": {},
   "source": [
    "### 4. The Major Field of Study that the Data Scientists graduated from it"
   ]
  },
  {
   "cell_type": "code",
   "execution_count": 12,
   "metadata": {},
   "outputs": [
    {
     "data": {
      "image/png": "[encoded data removed]",
      "text/plain": [
       "<Figure size 360x504 with 1 Axes>"
      ]
     },
     "metadata": {
      "needs_background": "light"
     },
     "output_type": "display_data"
    }
   ],
   "source": [
    "major_ed = pd.DataFrame(ds['UndergradMajor'].dropna().str.strip().tolist()).stack()\n",
    "major_ed = major_ed.value_counts()\n",
    "\n",
    "f,ax1 = plt.subplots(figsize = (5,7))\n",
    "\n",
    "x = (major_ed/major_ed.sum() * 100)\n",
    "y = major_ed.index\n",
    "\n",
    "\n",
    "ax1.set(ylabel = \"Undergraduate major \", xlabel = \"Percentage %\", title = \" for data scientist/machine learning specialist\")\n",
    "\n",
    "sns.barplot(x=x, y=y, ax=ax1)\n",
    "\n",
    "plt.show()"
   ]
  },
  {
   "cell_type": "markdown",
   "metadata": {},
   "source": [
    "## The Industrial Analysis\n",
    "\n",
    "\n",
    "\n",
    "\n",
    "### 1. Top Languages,Tools & Software  Data Scientists used in 2020"
   ]
  },
  {
   "cell_type": "code",
   "execution_count": 13,
   "metadata": {},
   "outputs": [
    {
     "data": {
      "image/png": "[encoded data removed]",
      "text/plain": [
       "<Figure size 432x288 with 1 Axes>"
      ]
     },
     "metadata": {},
     "output_type": "display_data"
    }
   ],
   "source": [
    "lang = pd.DataFrame(ds['LanguageWorkedWith'].dropna().str.split(';').tolist()).stack().value_counts().head(10)\n",
    "\n",
    "portion = lang/lang.sum() *100\n",
    "plt.pie(x = portion, data = lang, labels = lang.index, autopct = '%.1f%%', pctdistance=0.7, shadow=True, radius=1.8);"
   ]
  },
  {
   "cell_type": "markdown",
   "metadata": {},
   "source": [
    "###  2. Overall coding experience as a Data scientist/Machine learning specialist"
   ]
  },
  {
   "cell_type": "code",
   "execution_count": 14,
   "metadata": {},
   "outputs": [
    {
     "data": {
      "text/plain": [
       "5                     41\n",
       "10                    34\n",
       "6                     33\n",
       "4                     28\n",
       "7                     23\n",
       "8                     22\n",
       "15                    20\n",
       "3                     20\n",
       "2                     15\n",
       "12                    13\n",
       "20                    13\n",
       "9                     11\n",
       "11                     9\n",
       "13                     8\n",
       "16                     6\n",
       "22                     6\n",
       "14                     6\n",
       "30                     6\n",
       "18                     5\n",
       "25                     5\n",
       "Less than 1 year       4\n",
       "21                     4\n",
       "17                     4\n",
       "38                     3\n",
       "24                     3\n",
       "32                     2\n",
       "44                     2\n",
       "1                      2\n",
       "40                     2\n",
       "50                     2\n",
       "More than 50 years     2\n",
       "37                     1\n",
       "19                     1\n",
       "35                     1\n",
       "27                     1\n",
       "33                     1\n",
       "26                     1\n",
       "36                     1\n",
       "28                     1\n",
       "Name: YearsCode, dtype: int64"
      ]
     },
     "execution_count": 14,
     "metadata": {},
     "output_type": "execute_result"
    }
   ],
   "source": [
    "ds['YearsCode'].value_counts() #notice that there are two different entries compare to others"
   ]
  },
  {
   "cell_type": "code",
   "execution_count": 15,
   "metadata": {},
   "outputs": [
    {
     "data": {
      "image/png": "[encoded data removed]",
      "text/plain": [
       "<Figure size 1080x360 with 1 Axes>"
      ]
     },
     "metadata": {
      "needs_background": "light"
     },
     "output_type": "display_data"
    }
   ],
   "source": [
    "# Replace those entries with other notation so that graph looks clean(values will not overlap).\n",
    "yrs_code = ds['YearsCode'].replace({'Less than 1 year': '<1','More than 50 years':'>50'}).value_counts()\n",
    "\n",
    "\n",
    "x = yrs_code.index\n",
    "y = (yrs_code/sum(yrs_code) *100)\n",
    "\n",
    "#plotting graph\n",
    "f,ax1 = plt.subplots(figsize=(15,5))\n",
    "sns.barplot(x=x, y=y, ax=ax1)\n",
    "ax1.set(xlabel = 'Coding experience in years', ylabel = 'Percentage %', \n",
    "        title = \"Overall coding experience as a Data scientist/Machine learning specialist\");\n"
   ]
  },
  {
   "cell_type": "markdown",
   "metadata": {},
   "source": [
    "### 3. Job satisfaction as a Data scientist/Machine learning specialist"
   ]
  },
  {
   "cell_type": "code",
   "execution_count": 16,
   "metadata": {},
   "outputs": [
    {
     "data": {
      "image/png": "[encoded data removed]",
      "text/plain": [
       "<Figure size 432x288 with 1 Axes>"
      ]
     },
     "metadata": {},
     "output_type": "display_data"
    }
   ],
   "source": [
    "j_sat = ds['JobSat'].dropna().value_counts()\n",
    "\n",
    "plt.pie(x=j_sat, labels = j_sat.index, autopct = '%.1f%%', shadow = True, data = j_sat, radius = 1.8);"
   ]
  },
  {
   "cell_type": "markdown",
   "metadata": {},
   "source": [
    "### 4. Countries with highest salaries of data scientists/ML specialists"
   ]
  },
  {
   "cell_type": "code",
   "execution_count": 17,
   "metadata": {},
   "outputs": [
    {
     "data": {
      "image/png": "[encoded data removed]",
      "text/plain": [
       "<Figure size 1080x360 with 1 Axes>"
      ]
     },
     "metadata": {
      "needs_background": "light"
     },
     "output_type": "display_data"
    }
   ],
   "source": [
    "sal_cont = ds[['ConvertedComp','Country']].dropna().groupby(by='Country').sum().sort_values(by='ConvertedComp',ascending=False).head(10)\n",
    "\n",
    "new = sal_cont.reset_index()\n",
    "x = new['Country']\n",
    "y = new['ConvertedComp']/100\n",
    "\n",
    "#plotting graph\n",
    "f,ax1 = plt.subplots(figsize=(15,5))\n",
    "sns.barplot(x=x, y=y, ax=ax1)\n",
    "ax1.set(xlabel = 'Country', ylabel = 'Avg Salary per year in $', \n",
    "        title = \"Top 10 countries with highesst salaries of data scientists/Ml specialists\");"
   ]
  },
  {
   "cell_type": "code",
   "execution_count": 45,
   "metadata": {},
   "outputs": [
    {
     "data": {
      "text/html": [
       "<div>\n",
       "<style scoped>\n",
       "    .dataframe tbody tr th:only-of-type {\n",
       "        vertical-align: middle;\n",
       "    }\n",
       "\n",
       "    .dataframe tbody tr th {\n",
       "        vertical-align: top;\n",
       "    }\n",
       "\n",
       "    .dataframe thead th {\n",
       "        text-align: right;\n",
       "    }\n",
       "</style>\n",
       "<table border=\"1\" class=\"dataframe\">\n",
       "  <thead>\n",
       "    <tr style=\"text-align: right;\">\n",
       "      <th></th>\n",
       "      <th>ConvertedComp</th>\n",
       "      <th>Country</th>\n",
       "    </tr>\n",
       "  </thead>\n",
       "  <tbody>\n",
       "    <tr>\n",
       "      <th>18126</th>\n",
       "      <td>2000000.0</td>\n",
       "      <td>United States</td>\n",
       "    </tr>\n",
       "    <tr>\n",
       "      <th>33158</th>\n",
       "      <td>1680000.0</td>\n",
       "      <td>United States</td>\n",
       "    </tr>\n",
       "    <tr>\n",
       "      <th>61373</th>\n",
       "      <td>1560000.0</td>\n",
       "      <td>United States</td>\n",
       "    </tr>\n",
       "    <tr>\n",
       "      <th>20242</th>\n",
       "      <td>490000.0</td>\n",
       "      <td>United States</td>\n",
       "    </tr>\n",
       "    <tr>\n",
       "      <th>43729</th>\n",
       "      <td>325000.0</td>\n",
       "      <td>United States</td>\n",
       "    </tr>\n",
       "  </tbody>\n",
       "</table>\n",
       "</div>"
      ],
      "text/plain": [
       "       ConvertedComp        Country\n",
       "18126      2000000.0  United States\n",
       "33158      1680000.0  United States\n",
       "61373      1560000.0  United States\n",
       "20242       490000.0  United States\n",
       "43729       325000.0  United States"
      ]
     },
     "execution_count": 45,
     "metadata": {},
     "output_type": "execute_result"
    }
   ],
   "source": [
    "# Just Look at the braod spetrum of perticular the unites state's salaries.\n",
    "\n",
    "us_grp = ds[['ConvertedComp','Country']].dropna().groupby(by='Country')\n",
    "#we extracted the'US' group by using get_group method and sorted the values by descending.\n",
    "us = pd.DataFrame(us_grp.get_group('United States')).sort_values(ascending=False,by='ConvertedComp')\n",
    "us = us[us.ConvertedComp !=0] #we ignored the salaries which are enterd 0\n",
    "us.head()"
   ]
  },
  {
   "cell_type": "code",
   "execution_count": 42,
   "metadata": {},
   "outputs": [
    {
     "data": {
      "image/png": "[encoded data removed]",
      "text/plain": [
       "<Figure size 432x288 with 1 Axes>"
      ]
     },
     "metadata": {
      "needs_background": "light"
     },
     "output_type": "display_data"
    }
   ],
   "source": [
    "plt.scatter(data=us,x='Country',y='ConvertedComp',s=30,c='Green'); #plotted the graph of us\n",
    "plt.title(\"The salary of ds/ml sp. for the United States\");"
   ]
  },
  {
   "cell_type": "markdown",
   "metadata": {},
   "source": [
    "###  5. Coding as a hobby\n",
    "\n",
    "**Data scientist/ml specialist who code as hobby**"
   ]
  },
  {
   "cell_type": "code",
   "execution_count": 20,
   "metadata": {},
   "outputs": [
    {
     "data": {
      "image/png": "[encoded data removed]",
      "text/plain": [
       "<Figure size 432x288 with 1 Axes>"
      ]
     },
     "metadata": {},
     "output_type": "display_data"
    }
   ],
   "source": [
    "hobby = ds['Hobbyist'].dropna().value_counts()\n",
    "\n",
    "plt.pie(x=hobby, labels = hobby.index, autopct = '%.1f%%', shadow = True, data = hobby, radius = 1.8);"
   ]
  },
  {
   "cell_type": "markdown",
   "metadata": {},
   "source": [
    "## Modeling"
   ]
  },
  {
   "cell_type": "code",
   "execution_count": 21,
   "metadata": {},
   "outputs": [],
   "source": [
    "#Choose on which data you wants to buid your model\n",
    "num_vars = ds[['Respondent','YearsCode','ConvertedComp','JobSat','EdLevel','LanguageWorkedWith','Gender']]"
   ]
  },
  {
   "cell_type": "markdown",
   "metadata": {},
   "source": [
    "### Missing data"
   ]
  },
  {
   "cell_type": "code",
   "execution_count": 22,
   "metadata": {},
   "outputs": [
    {
     "name": "stdout",
     "output_type": "stream",
     "text": [
      "YearsCode 0.019  % Missing value\n",
      "ConvertedComp 0.382  % Missing value\n",
      "JobSat 0.136  % Missing value\n",
      "EdLevel 0.014  % Missing value\n",
      "LanguageWorkedWith 0.076  % Missing value\n",
      "Gender 0.16  % Missing value\n"
     ]
    }
   ],
   "source": [
    "# Check for presence of null data\n",
    "\n",
    "vars_with_na = [var for var in num_vars.columns if num_vars[var].isnull().sum()>0]\n",
    "\n",
    "for var in vars_with_na:\n",
    "    print(var, np.round(num_vars[var].isnull().mean(), 3),' % Missing value')"
   ]
  },
  {
   "cell_type": "markdown",
   "metadata": {},
   "source": [
    "### Categorical Variables"
   ]
  },
  {
   "cell_type": "code",
   "execution_count": 23,
   "metadata": {},
   "outputs": [
    {
     "data": {
      "text/html": [
       "<div>\n",
       "<style scoped>\n",
       "    .dataframe tbody tr th:only-of-type {\n",
       "        vertical-align: middle;\n",
       "    }\n",
       "\n",
       "    .dataframe tbody tr th {\n",
       "        vertical-align: top;\n",
       "    }\n",
       "\n",
       "    .dataframe thead th {\n",
       "        text-align: right;\n",
       "    }\n",
       "</style>\n",
       "<table border=\"1\" class=\"dataframe\">\n",
       "  <thead>\n",
       "    <tr style=\"text-align: right;\">\n",
       "      <th></th>\n",
       "      <th>YearsCode</th>\n",
       "      <th>JobSat</th>\n",
       "      <th>EdLevel</th>\n",
       "      <th>LanguageWorkedWith</th>\n",
       "      <th>Gender</th>\n",
       "    </tr>\n",
       "  </thead>\n",
       "  <tbody>\n",
       "    <tr>\n",
       "      <th>386</th>\n",
       "      <td>12</td>\n",
       "      <td>NaN</td>\n",
       "      <td>Other doctoral degree (Ph.D., Ed.D., etc.)</td>\n",
       "      <td>Java;Python</td>\n",
       "      <td>NaN</td>\n",
       "    </tr>\n",
       "    <tr>\n",
       "      <th>506</th>\n",
       "      <td>37</td>\n",
       "      <td>Very satisfied</td>\n",
       "      <td>Other doctoral degree (Ph.D., Ed.D., etc.)</td>\n",
       "      <td>Python</td>\n",
       "      <td>NaN</td>\n",
       "    </tr>\n",
       "    <tr>\n",
       "      <th>516</th>\n",
       "      <td>1</td>\n",
       "      <td>Very satisfied</td>\n",
       "      <td>Master’s degree (M.A., M.S., M.Eng., MBA, etc.)</td>\n",
       "      <td>Python</td>\n",
       "      <td>Man</td>\n",
       "    </tr>\n",
       "    <tr>\n",
       "      <th>690</th>\n",
       "      <td>30</td>\n",
       "      <td>Slightly dissatisfied</td>\n",
       "      <td>Master’s degree (M.A., M.S., M.Eng., MBA, etc.)</td>\n",
       "      <td>Java;JavaScript;Python;SQL</td>\n",
       "      <td>Man</td>\n",
       "    </tr>\n",
       "    <tr>\n",
       "      <th>711</th>\n",
       "      <td>8</td>\n",
       "      <td>Very satisfied</td>\n",
       "      <td>Master’s degree (M.A., M.S., M.Eng., MBA, etc.)</td>\n",
       "      <td>Bash/Shell/PowerShell;HTML/CSS;JavaScript;Python;R;SQL</td>\n",
       "      <td>Man</td>\n",
       "    </tr>\n",
       "  </tbody>\n",
       "</table>\n",
       "</div>"
      ],
      "text/plain": [
       "    YearsCode                 JobSat  \\\n",
       "386        12                    NaN   \n",
       "506        37         Very satisfied   \n",
       "516         1         Very satisfied   \n",
       "690        30  Slightly dissatisfied   \n",
       "711         8         Very satisfied   \n",
       "\n",
       "                                             EdLevel  \\\n",
       "386       Other doctoral degree (Ph.D., Ed.D., etc.)   \n",
       "506       Other doctoral degree (Ph.D., Ed.D., etc.)   \n",
       "516  Master’s degree (M.A., M.S., M.Eng., MBA, etc.)   \n",
       "690  Master’s degree (M.A., M.S., M.Eng., MBA, etc.)   \n",
       "711  Master’s degree (M.A., M.S., M.Eng., MBA, etc.)   \n",
       "\n",
       "                                         LanguageWorkedWith Gender  \n",
       "386                                             Java;Python    NaN  \n",
       "506                                                  Python    NaN  \n",
       "516                                                  Python    Man  \n",
       "690                              Java;JavaScript;Python;SQL    Man  \n",
       "711  Bash/Shell/PowerShell;HTML/CSS;JavaScript;Python;R;SQL    Man  "
      ]
     },
     "execution_count": 23,
     "metadata": {},
     "output_type": "execute_result"
    }
   ],
   "source": [
    "# leaving the respondent column all other columns contains null data\n",
    "# Treating null data by type wise let's check first with categorical column\n",
    "\n",
    "cat_df = num_vars.select_dtypes(include = 'O').copy()  #Identify categorical columns\n",
    "cat_df.head()"
   ]
  },
  {
   "cell_type": "markdown",
   "metadata": {},
   "source": [
    "### Handeling categorical varialbles"
   ]
  },
  {
   "cell_type": "code",
   "execution_count": 24,
   "metadata": {},
   "outputs": [
    {
     "data": {
      "text/html": [
       "<div>\n",
       "<style scoped>\n",
       "    .dataframe tbody tr th:only-of-type {\n",
       "        vertical-align: middle;\n",
       "    }\n",
       "\n",
       "    .dataframe tbody tr th {\n",
       "        vertical-align: top;\n",
       "    }\n",
       "\n",
       "    .dataframe thead th {\n",
       "        text-align: right;\n",
       "    }\n",
       "</style>\n",
       "<table border=\"1\" class=\"dataframe\">\n",
       "  <thead>\n",
       "    <tr style=\"text-align: right;\">\n",
       "      <th></th>\n",
       "      <th>YearsCode</th>\n",
       "      <th>JobSat</th>\n",
       "      <th>EdLevel</th>\n",
       "      <th>LanguageWorkedWith</th>\n",
       "      <th>Gender</th>\n",
       "    </tr>\n",
       "  </thead>\n",
       "  <tbody>\n",
       "    <tr>\n",
       "      <th>386</th>\n",
       "      <td>12</td>\n",
       "      <td>Very satisfied</td>\n",
       "      <td>Other doctoral degree (Ph.D., Ed.D., etc.)</td>\n",
       "      <td>Java;Python</td>\n",
       "      <td>Man</td>\n",
       "    </tr>\n",
       "    <tr>\n",
       "      <th>506</th>\n",
       "      <td>37</td>\n",
       "      <td>Very satisfied</td>\n",
       "      <td>Other doctoral degree (Ph.D., Ed.D., etc.)</td>\n",
       "      <td>Python</td>\n",
       "      <td>Man</td>\n",
       "    </tr>\n",
       "    <tr>\n",
       "      <th>516</th>\n",
       "      <td>1</td>\n",
       "      <td>Very satisfied</td>\n",
       "      <td>Master’s degree (M.A., M.S., M.Eng., MBA, etc.)</td>\n",
       "      <td>Python</td>\n",
       "      <td>Man</td>\n",
       "    </tr>\n",
       "    <tr>\n",
       "      <th>690</th>\n",
       "      <td>30</td>\n",
       "      <td>Slightly dissatisfied</td>\n",
       "      <td>Master’s degree (M.A., M.S., M.Eng., MBA, etc.)</td>\n",
       "      <td>Java;JavaScript;Python;SQL</td>\n",
       "      <td>Man</td>\n",
       "    </tr>\n",
       "    <tr>\n",
       "      <th>711</th>\n",
       "      <td>8</td>\n",
       "      <td>Very satisfied</td>\n",
       "      <td>Master’s degree (M.A., M.S., M.Eng., MBA, etc.)</td>\n",
       "      <td>Bash/Shell/PowerShell;HTML/CSS;JavaScript;Python;R;SQL</td>\n",
       "      <td>Man</td>\n",
       "    </tr>\n",
       "  </tbody>\n",
       "</table>\n",
       "</div>"
      ],
      "text/plain": [
       "    YearsCode                 JobSat  \\\n",
       "386        12         Very satisfied   \n",
       "506        37         Very satisfied   \n",
       "516         1         Very satisfied   \n",
       "690        30  Slightly dissatisfied   \n",
       "711         8         Very satisfied   \n",
       "\n",
       "                                             EdLevel  \\\n",
       "386       Other doctoral degree (Ph.D., Ed.D., etc.)   \n",
       "506       Other doctoral degree (Ph.D., Ed.D., etc.)   \n",
       "516  Master’s degree (M.A., M.S., M.Eng., MBA, etc.)   \n",
       "690  Master’s degree (M.A., M.S., M.Eng., MBA, etc.)   \n",
       "711  Master’s degree (M.A., M.S., M.Eng., MBA, etc.)   \n",
       "\n",
       "                                         LanguageWorkedWith Gender  \n",
       "386                                             Java;Python    Man  \n",
       "506                                                  Python    Man  \n",
       "516                                                  Python    Man  \n",
       "690                              Java;JavaScript;Python;SQL    Man  \n",
       "711  Bash/Shell/PowerShell;HTML/CSS;JavaScript;Python;R;SQL    Man  "
      ]
     },
     "execution_count": 24,
     "metadata": {},
     "output_type": "execute_result"
    }
   ],
   "source": [
    "# Replace NA with Mode of a column in categorical variables, that's one way to do it.\n",
    "\n",
    "for col in cat_df.columns:\n",
    "    #calculating and storing the each mode value of the column\n",
    "    mode_val = cat_df[col].mode()[0]\n",
    "    #Filling the mode value at null values\n",
    "    cat_df[col].fillna(mode_val, inplace = True)\n",
    "\n",
    "cat_df.head()"
   ]
  },
  {
   "cell_type": "markdown",
   "metadata": {},
   "source": [
    "**Converting categorical variable into dummy/indicator variables.**"
   ]
  },
  {
   "cell_type": "code",
   "execution_count": 25,
   "metadata": {},
   "outputs": [],
   "source": [
    "cat_cols_list = cat_df.columns\n",
    "def create_dummy_df(cat_df,cat_cols):\n",
    "    \n",
    "    for col in cat_cols:\n",
    "        try:\n",
    "            # remove all the original columns in cat_df\n",
    "            # dummy columns for each of the categorical columns in cat_df\n",
    "            cat_df = pd.concat([cat_df.drop(col, axis=1),pd.get_dummies(data = cat_df[col], prefix=[col], \n",
    "                                                                        prefix_sep='_', \n",
    "                                                                        drop_first=True,dummy_na=False)],axis=1)\n",
    "        except:\n",
    "            continue\n",
    "    return cat_df\n",
    "    \n",
    "df_new = create_dummy_df(cat_df,cat_cols_list)"
   ]
  },
  {
   "cell_type": "code",
   "execution_count": 26,
   "metadata": {},
   "outputs": [
    {
     "data": {
      "text/plain": [
       "(369, 229)"
      ]
     },
     "execution_count": 26,
     "metadata": {},
     "output_type": "execute_result"
    }
   ],
   "source": [
    "df_new.shape  #shape of all categorical columns"
   ]
  },
  {
   "cell_type": "markdown",
   "metadata": {},
   "source": [
    "### Numerical variables"
   ]
  },
  {
   "cell_type": "code",
   "execution_count": 27,
   "metadata": {},
   "outputs": [
    {
     "data": {
      "text/plain": [
       "Respondent         0\n",
       "ConvertedComp    141\n",
       "dtype: int64"
      ]
     },
     "execution_count": 27,
     "metadata": {},
     "output_type": "execute_result"
    }
   ],
   "source": [
    "quant_var = num_vars.select_dtypes(exclude = 'O')\n",
    "quant_var.isnull().sum() #null values. as Respondent column act an index it does not have any missing values."
   ]
  },
  {
   "cell_type": "code",
   "execution_count": 28,
   "metadata": {},
   "outputs": [
    {
     "data": {
      "text/plain": [
       "(369, 2)"
      ]
     },
     "execution_count": 28,
     "metadata": {},
     "output_type": "execute_result"
    }
   ],
   "source": [
    "# Replace NA with mean\n",
    "\n",
    "fill_mean = lambda col: col.fillna(col.mean()) #created a lambda function to fill avg values to columns\n",
    "\n",
    "var_mean = num_vars[['Respondent','ConvertedComp']].apply(fill_mean) #note will only applies to salary\n",
    "var_mean.shape #shape of numrical columns"
   ]
  },
  {
   "cell_type": "code",
   "execution_count": 29,
   "metadata": {},
   "outputs": [
    {
     "data": {
      "text/plain": [
       "(369, 231)"
      ]
     },
     "execution_count": 29,
     "metadata": {},
     "output_type": "execute_result"
    }
   ],
   "source": [
    "#Putting all to gether\n",
    "\n",
    "df_final = pd.concat([var_mean,df_new],axis=1)\n",
    "df_final.shape # shape of categorical + numerical columns"
   ]
  },
  {
   "cell_type": "markdown",
   "metadata": {},
   "source": [
    "### Modeling"
   ]
  },
  {
   "cell_type": "code",
   "execution_count": 30,
   "metadata": {},
   "outputs": [],
   "source": [
    "from sklearn.linear_model import LinearRegression\n",
    "from sklearn.model_selection import train_test_split\n",
    "from sklearn.metrics import r2_score, mean_squared_error\n",
    "\n",
    "\"\"\"  \n",
    "    To build a clean_fit model we should start by doing:\n",
    "    \n",
    "        1. Make in input variables \"X\" and output variable \"y\"\n",
    "        2. Split you data into training set and test set\n",
    "        3. Instantiate our model\n",
    "        4. Fit the model\n",
    "        5. Predict our model and score\n",
    "\"\"\"\n",
    "\n",
    "def clean_fit_model(df_final):\n",
    "    \n",
    "    #make X and y as input and out variables\n",
    "    X = df_final.drop(columns=['ConvertedComp'])  #only drop salary column \n",
    "    y = df_final['ConvertedComp']                 #out variable which we have to predict\n",
    "    \n",
    "    #Split into train and test\n",
    "    X_train, X_test, y_train, y_test = train_test_split(X, y, test_size=.3, random_state=42)\n",
    "    \n",
    "    #Instaantiate \n",
    "    lm_model = LinearRegression(normalize=True)\n",
    "    \n",
    "    #Fitting model\n",
    "    lm_model.fit(X_train,y_train)\n",
    "    \n",
    "    #Predict using your model\n",
    "    y_test_preds = lm_model.predict(X_test)\n",
    "    y_train_preds = lm_model.predict(X_train)\n",
    "    \n",
    "    #Score using your model\n",
    "    test_score = r2_score(y_test,y_test_preds)\n",
    "    train_score = r2_score(y_train,y_train_preds)\n",
    "    \n",
    "    return test_score, train_score,X_train, X_test, y_train, y_test,y_test_preds,y_train_preds\n",
    "\n",
    "\n",
    "test_score,train_score, X_train, X_test, y_train, y_test,y_test_preds,y_train_preds = clean_fit_model(df_final)"
   ]
  },
  {
   "cell_type": "code",
   "execution_count": 31,
   "metadata": {},
   "outputs": [
    {
     "name": "stdout",
     "output_type": "stream",
     "text": [
      "the rsquared on training data is 0.6000640959457194. \n",
      " & the rsquared on the test data is -4.7787615892376845e+29.\n"
     ]
    }
   ],
   "source": [
    "print(\"the rsquared on training data is {}. \\n & the rsquared on the test data is {}.\".format(train_score,test_score))"
   ]
  },
  {
   "cell_type": "markdown",
   "metadata": {},
   "source": [
    "As you can see our model perform well on the training data but on the test data it perform worst. So this is clearly an example of \"Overfitting\" and we should do some more work to tackle this situation."
   ]
  }
 ],
 "metadata": {
  "kernelspec": {
   "display_name": "Python 3",
   "language": "python",
   "name": "python3"
  },
  "language_info": {
   "codemirror_mode": {
    "name": "ipython",
    "version": 3
   },
   "file_extension": ".py",
   "mimetype": "text/x-python",
   "name": "python",
   "nbconvert_exporter": "python",
   "pygments_lexer": "ipython3",
   "version": "3.7.6"
  }
 },
 "nbformat": 4,
 "nbformat_minor": 4
}
